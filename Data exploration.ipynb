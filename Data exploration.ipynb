{
 "cells": [
  {
   "cell_type": "code",
   "execution_count": 1,
   "id": "a9c4c81d",
   "metadata": {},
   "outputs": [],
   "source": [
    "import pandas as pd\n",
    "import numpy as np\n",
    "import re\n",
    "from tqdm import tqdm \n",
    "import warnings\n",
    "warnings.filterwarnings(\"ignore\")"
   ]
  },
  {
   "cell_type": "code",
   "execution_count": 2,
   "id": "ab932173",
   "metadata": {},
   "outputs": [],
   "source": [
    "df = pd.read_csv('data\\events.csv')\n",
    "atBats = []\n",
    "for i in range(len(df)):\n",
    "    if df['Away'][i].isdigit():\n",
    "        atBats.append(1)\n",
    "    else:\n",
    "        atBats.append(0)\n",
    "df[\"At Bat\"] = atBats"
   ]
  },
  {
   "cell_type": "code",
   "execution_count": 3,
   "id": "8b57eec8",
   "metadata": {},
   "outputs": [],
   "source": [
    "pbp = df[df[\"At Bat\"] == 1]"
   ]
  },
  {
   "cell_type": "code",
   "execution_count": 4,
   "id": "c5ae2c51",
   "metadata": {},
   "outputs": [],
   "source": [
    "del pbp[\"At Bat\"]\n"
   ]
  },
  {
   "cell_type": "code",
   "execution_count": 5,
   "id": "5362cd54",
   "metadata": {},
   "outputs": [],
   "source": [
    "pbp.reset_index(drop=True, inplace=True)\n",
    "inning = []\n",
    "for i in range(len(pbp)):\n",
    "    inning.append(re.findall(r'\\d+', pbp['Inning'][i])[0])\n",
    "pbp[\"Inning\"] = inning"
   ]
  },
  {
   "cell_type": "code",
   "execution_count": null,
   "id": "319dd47e",
   "metadata": {},
   "outputs": [],
   "source": []
  },
  {
   "cell_type": "code",
   "execution_count": 6,
   "id": "623f41b6",
   "metadata": {},
   "outputs": [],
   "source": [
    "pbp.head()\n",
    "pbp2= pbp"
   ]
  },
  {
   "cell_type": "code",
   "execution_count": 7,
   "id": "f78bec16",
   "metadata": {},
   "outputs": [],
   "source": [
    "pbp = pbp2"
   ]
  },
  {
   "cell_type": "code",
   "execution_count": 8,
   "id": "195fcfe3",
   "metadata": {},
   "outputs": [],
   "source": [
    "events = ['out','hit by pitch','singled','doubled','tripled','advance','walked','stole','caught stealing','pickoff','picked off','homer','homerun','homerun','sacrifice fly','sacrificed','wild pitch','error','bunt','single','double','triple','struck out']\n",
    "out = []\n",
    "for event in events:\n",
    "    pbp[event] = pbp['Events'].str.contains(event, na = False).astype(int)"
   ]
  },
  {
   "cell_type": "code",
   "execution_count": 9,
   "id": "3282d116",
   "metadata": {},
   "outputs": [],
   "source": [
    "pbpReserve = pbp"
   ]
  },
  {
   "cell_type": "code",
   "execution_count": 10,
   "id": "4d0c7657",
   "metadata": {},
   "outputs": [
    {
     "data": {
      "text/html": [
       "<div>\n",
       "<style scoped>\n",
       "    .dataframe tbody tr th:only-of-type {\n",
       "        vertical-align: middle;\n",
       "    }\n",
       "\n",
       "    .dataframe tbody tr th {\n",
       "        vertical-align: top;\n",
       "    }\n",
       "\n",
       "    .dataframe thead th {\n",
       "        text-align: right;\n",
       "    }\n",
       "</style>\n",
       "<table border=\"1\" class=\"dataframe\">\n",
       "  <thead>\n",
       "    <tr style=\"text-align: right;\">\n",
       "      <th></th>\n",
       "      <th>Game</th>\n",
       "      <th>Pitching Team</th>\n",
       "      <th>Batting Team</th>\n",
       "      <th>Inning</th>\n",
       "      <th>Event Id</th>\n",
       "      <th>Events</th>\n",
       "      <th>Away</th>\n",
       "      <th>Home</th>\n",
       "      <th>out</th>\n",
       "      <th>hit by pitch</th>\n",
       "      <th>...</th>\n",
       "      <th>homerun</th>\n",
       "      <th>sacrifice fly</th>\n",
       "      <th>sacrificed</th>\n",
       "      <th>wild pitch</th>\n",
       "      <th>error</th>\n",
       "      <th>bunt</th>\n",
       "      <th>single</th>\n",
       "      <th>double</th>\n",
       "      <th>triple</th>\n",
       "      <th>struck out</th>\n",
       "    </tr>\n",
       "  </thead>\n",
       "  <tbody>\n",
       "    <tr>\n",
       "      <th>0</th>\n",
       "      <td>360403123</td>\n",
       "      <td>PIT</td>\n",
       "      <td>STL</td>\n",
       "      <td>1</td>\n",
       "      <td>1</td>\n",
       "      <td>Carpenter grounded out to first.</td>\n",
       "      <td>0</td>\n",
       "      <td>0</td>\n",
       "      <td>1</td>\n",
       "      <td>0</td>\n",
       "      <td>...</td>\n",
       "      <td>0</td>\n",
       "      <td>0</td>\n",
       "      <td>0</td>\n",
       "      <td>0</td>\n",
       "      <td>0</td>\n",
       "      <td>0</td>\n",
       "      <td>0</td>\n",
       "      <td>0</td>\n",
       "      <td>0</td>\n",
       "      <td>0</td>\n",
       "    </tr>\n",
       "    <tr>\n",
       "      <th>1</th>\n",
       "      <td>360403123</td>\n",
       "      <td>PIT</td>\n",
       "      <td>STL</td>\n",
       "      <td>1</td>\n",
       "      <td>2</td>\n",
       "      <td>Pham grounded out to third.</td>\n",
       "      <td>0</td>\n",
       "      <td>0</td>\n",
       "      <td>1</td>\n",
       "      <td>0</td>\n",
       "      <td>...</td>\n",
       "      <td>0</td>\n",
       "      <td>0</td>\n",
       "      <td>0</td>\n",
       "      <td>0</td>\n",
       "      <td>0</td>\n",
       "      <td>0</td>\n",
       "      <td>0</td>\n",
       "      <td>0</td>\n",
       "      <td>0</td>\n",
       "      <td>0</td>\n",
       "    </tr>\n",
       "    <tr>\n",
       "      <th>2</th>\n",
       "      <td>360403123</td>\n",
       "      <td>PIT</td>\n",
       "      <td>STL</td>\n",
       "      <td>1</td>\n",
       "      <td>3</td>\n",
       "      <td>Holliday struck out looking.</td>\n",
       "      <td>0</td>\n",
       "      <td>0</td>\n",
       "      <td>1</td>\n",
       "      <td>0</td>\n",
       "      <td>...</td>\n",
       "      <td>0</td>\n",
       "      <td>0</td>\n",
       "      <td>0</td>\n",
       "      <td>0</td>\n",
       "      <td>0</td>\n",
       "      <td>0</td>\n",
       "      <td>0</td>\n",
       "      <td>0</td>\n",
       "      <td>0</td>\n",
       "      <td>1</td>\n",
       "    </tr>\n",
       "    <tr>\n",
       "      <th>3</th>\n",
       "      <td>360403123</td>\n",
       "      <td>STL</td>\n",
       "      <td>PIT</td>\n",
       "      <td>1</td>\n",
       "      <td>5</td>\n",
       "      <td>Jaso grounded out to second.</td>\n",
       "      <td>0</td>\n",
       "      <td>0</td>\n",
       "      <td>1</td>\n",
       "      <td>0</td>\n",
       "      <td>...</td>\n",
       "      <td>0</td>\n",
       "      <td>0</td>\n",
       "      <td>0</td>\n",
       "      <td>0</td>\n",
       "      <td>0</td>\n",
       "      <td>0</td>\n",
       "      <td>0</td>\n",
       "      <td>0</td>\n",
       "      <td>0</td>\n",
       "      <td>0</td>\n",
       "    </tr>\n",
       "    <tr>\n",
       "      <th>4</th>\n",
       "      <td>360403123</td>\n",
       "      <td>STL</td>\n",
       "      <td>PIT</td>\n",
       "      <td>1</td>\n",
       "      <td>6</td>\n",
       "      <td>McCutchen hit by pitch.</td>\n",
       "      <td>0</td>\n",
       "      <td>0</td>\n",
       "      <td>0</td>\n",
       "      <td>1</td>\n",
       "      <td>...</td>\n",
       "      <td>0</td>\n",
       "      <td>0</td>\n",
       "      <td>0</td>\n",
       "      <td>0</td>\n",
       "      <td>0</td>\n",
       "      <td>0</td>\n",
       "      <td>0</td>\n",
       "      <td>0</td>\n",
       "      <td>0</td>\n",
       "      <td>0</td>\n",
       "    </tr>\n",
       "  </tbody>\n",
       "</table>\n",
       "<p>5 rows × 30 columns</p>\n",
       "</div>"
      ],
      "text/plain": [
       "        Game Pitching Team Batting Team Inning  Event Id  \\\n",
       "0  360403123           PIT          STL      1         1   \n",
       "1  360403123           PIT          STL      1         2   \n",
       "2  360403123           PIT          STL      1         3   \n",
       "3  360403123           STL          PIT      1         5   \n",
       "4  360403123           STL          PIT      1         6   \n",
       "\n",
       "                             Events Away Home  out  hit by pitch  ...  \\\n",
       "0  Carpenter grounded out to first.    0    0    1             0  ...   \n",
       "1       Pham grounded out to third.    0    0    1             0  ...   \n",
       "2      Holliday struck out looking.    0    0    1             0  ...   \n",
       "3      Jaso grounded out to second.    0    0    1             0  ...   \n",
       "4           McCutchen hit by pitch.    0    0    0             1  ...   \n",
       "\n",
       "   homerun  sacrifice fly  sacrificed  wild pitch  error  bunt  single  \\\n",
       "0        0              0           0           0      0     0       0   \n",
       "1        0              0           0           0      0     0       0   \n",
       "2        0              0           0           0      0     0       0   \n",
       "3        0              0           0           0      0     0       0   \n",
       "4        0              0           0           0      0     0       0   \n",
       "\n",
       "   double  triple  struck out  \n",
       "0       0       0           0  \n",
       "1       0       0           0  \n",
       "2       0       0           1  \n",
       "3       0       0           0  \n",
       "4       0       0           0  \n",
       "\n",
       "[5 rows x 30 columns]"
      ]
     },
     "execution_count": 10,
     "metadata": {},
     "output_type": "execute_result"
    }
   ],
   "source": [
    "pbp.head()"
   ]
  },
  {
   "cell_type": "code",
   "execution_count": 11,
   "id": "52b46d17",
   "metadata": {},
   "outputs": [],
   "source": [
    "pbp['homerun']=pbp['homer']+pbp['homerun']\n",
    "pbp['pickoff']=pbp['caught stealing']+pbp['pickoff']\n",
    "pbp['sacrifice']=pbp['sacrifice fly'] + pbp['sacrificed']\n",
    "pbp['single'] = pbp['single']+pbp['singled']\n",
    "pbp['double'] = pbp['double']+pbp['doubled']\n",
    "pbp['triple'] = pbp['triple']+pbp['tripled']\n",
    "pbp['advance'] = pbp['advance'] + pbp['wild pitch']+pbp['error']+pbp['bunt']\n",
    "pbp['pickoff'] = pbp['pickoff'] + pbp['picked off']\n",
    "pbp['out'] = pbp['out'] + pbp['sacrifice']+pbp['pickoff']\n",
    "\n"
   ]
  },
  {
   "cell_type": "code",
   "execution_count": null,
   "id": "84ed6e85",
   "metadata": {},
   "outputs": [],
   "source": []
  },
  {
   "cell_type": "code",
   "execution_count": 12,
   "id": "cc9858e2",
   "metadata": {},
   "outputs": [],
   "source": [
    "del pbp['homer']\n",
    "del pbp['caught stealing']\n",
    "del pbp['sacrifice fly']\n",
    "del pbp['wild pitch']\n",
    "del pbp['error']\n",
    "del pbp['picked off']\n",
    "del pbp['bunt']\n",
    "del pbp['singled']\n",
    "del pbp['doubled']\n",
    "del pbp['tripled']"
   ]
  },
  {
   "cell_type": "code",
   "execution_count": 13,
   "id": "888626ad",
   "metadata": {},
   "outputs": [],
   "source": [
    "events = ['out','hit by pitch','single','double','triple','advance','walked','stole','pickoff','homerun','struck out']\n"
   ]
  },
  {
   "cell_type": "code",
   "execution_count": 14,
   "id": "49e79070",
   "metadata": {},
   "outputs": [],
   "source": [
    "pbp['sum'] = np.zeros(len(pbp))\n",
    "for event in events:\n",
    "    pbp['sum'] = pbp['sum'] + pbp[event]\n",
    "pbp=pbp[pbp['sum']!=0]"
   ]
  },
  {
   "cell_type": "code",
   "execution_count": null,
   "id": "9afcab51",
   "metadata": {},
   "outputs": [],
   "source": []
  },
  {
   "cell_type": "code",
   "execution_count": null,
   "id": "51b77a98",
   "metadata": {},
   "outputs": [],
   "source": []
  },
  {
   "cell_type": "code",
   "execution_count": 15,
   "id": "cf6e729a",
   "metadata": {},
   "outputs": [
    {
     "data": {
      "text/html": [
       "<div>\n",
       "<style scoped>\n",
       "    .dataframe tbody tr th:only-of-type {\n",
       "        vertical-align: middle;\n",
       "    }\n",
       "\n",
       "    .dataframe tbody tr th {\n",
       "        vertical-align: top;\n",
       "    }\n",
       "\n",
       "    .dataframe thead th {\n",
       "        text-align: right;\n",
       "    }\n",
       "</style>\n",
       "<table border=\"1\" class=\"dataframe\">\n",
       "  <thead>\n",
       "    <tr style=\"text-align: right;\">\n",
       "      <th></th>\n",
       "      <th>Game</th>\n",
       "      <th>Pitching Team</th>\n",
       "      <th>Batting Team</th>\n",
       "      <th>Inning</th>\n",
       "      <th>Event Id</th>\n",
       "      <th>Events</th>\n",
       "      <th>Away</th>\n",
       "      <th>Home</th>\n",
       "      <th>out</th>\n",
       "      <th>hit by pitch</th>\n",
       "      <th>...</th>\n",
       "      <th>stole</th>\n",
       "      <th>pickoff</th>\n",
       "      <th>homerun</th>\n",
       "      <th>sacrificed</th>\n",
       "      <th>single</th>\n",
       "      <th>double</th>\n",
       "      <th>triple</th>\n",
       "      <th>struck out</th>\n",
       "      <th>sacrifice</th>\n",
       "      <th>sum</th>\n",
       "    </tr>\n",
       "  </thead>\n",
       "  <tbody>\n",
       "    <tr>\n",
       "      <th>0</th>\n",
       "      <td>360403123</td>\n",
       "      <td>PIT</td>\n",
       "      <td>STL</td>\n",
       "      <td>1</td>\n",
       "      <td>1</td>\n",
       "      <td>Carpenter grounded out to first.</td>\n",
       "      <td>0</td>\n",
       "      <td>0</td>\n",
       "      <td>1</td>\n",
       "      <td>0</td>\n",
       "      <td>...</td>\n",
       "      <td>0</td>\n",
       "      <td>0</td>\n",
       "      <td>0</td>\n",
       "      <td>0</td>\n",
       "      <td>0</td>\n",
       "      <td>0</td>\n",
       "      <td>0</td>\n",
       "      <td>0</td>\n",
       "      <td>0</td>\n",
       "      <td>1.0</td>\n",
       "    </tr>\n",
       "    <tr>\n",
       "      <th>1</th>\n",
       "      <td>360403123</td>\n",
       "      <td>PIT</td>\n",
       "      <td>STL</td>\n",
       "      <td>1</td>\n",
       "      <td>2</td>\n",
       "      <td>Pham grounded out to third.</td>\n",
       "      <td>0</td>\n",
       "      <td>0</td>\n",
       "      <td>1</td>\n",
       "      <td>0</td>\n",
       "      <td>...</td>\n",
       "      <td>0</td>\n",
       "      <td>0</td>\n",
       "      <td>0</td>\n",
       "      <td>0</td>\n",
       "      <td>0</td>\n",
       "      <td>0</td>\n",
       "      <td>0</td>\n",
       "      <td>0</td>\n",
       "      <td>0</td>\n",
       "      <td>1.0</td>\n",
       "    </tr>\n",
       "    <tr>\n",
       "      <th>2</th>\n",
       "      <td>360403123</td>\n",
       "      <td>PIT</td>\n",
       "      <td>STL</td>\n",
       "      <td>1</td>\n",
       "      <td>3</td>\n",
       "      <td>Holliday struck out looking.</td>\n",
       "      <td>0</td>\n",
       "      <td>0</td>\n",
       "      <td>1</td>\n",
       "      <td>0</td>\n",
       "      <td>...</td>\n",
       "      <td>0</td>\n",
       "      <td>0</td>\n",
       "      <td>0</td>\n",
       "      <td>0</td>\n",
       "      <td>0</td>\n",
       "      <td>0</td>\n",
       "      <td>0</td>\n",
       "      <td>1</td>\n",
       "      <td>0</td>\n",
       "      <td>2.0</td>\n",
       "    </tr>\n",
       "    <tr>\n",
       "      <th>3</th>\n",
       "      <td>360403123</td>\n",
       "      <td>STL</td>\n",
       "      <td>PIT</td>\n",
       "      <td>1</td>\n",
       "      <td>5</td>\n",
       "      <td>Jaso grounded out to second.</td>\n",
       "      <td>0</td>\n",
       "      <td>0</td>\n",
       "      <td>1</td>\n",
       "      <td>0</td>\n",
       "      <td>...</td>\n",
       "      <td>0</td>\n",
       "      <td>0</td>\n",
       "      <td>0</td>\n",
       "      <td>0</td>\n",
       "      <td>0</td>\n",
       "      <td>0</td>\n",
       "      <td>0</td>\n",
       "      <td>0</td>\n",
       "      <td>0</td>\n",
       "      <td>1.0</td>\n",
       "    </tr>\n",
       "    <tr>\n",
       "      <th>4</th>\n",
       "      <td>360403123</td>\n",
       "      <td>STL</td>\n",
       "      <td>PIT</td>\n",
       "      <td>1</td>\n",
       "      <td>6</td>\n",
       "      <td>McCutchen hit by pitch.</td>\n",
       "      <td>0</td>\n",
       "      <td>0</td>\n",
       "      <td>0</td>\n",
       "      <td>1</td>\n",
       "      <td>...</td>\n",
       "      <td>0</td>\n",
       "      <td>0</td>\n",
       "      <td>0</td>\n",
       "      <td>0</td>\n",
       "      <td>0</td>\n",
       "      <td>0</td>\n",
       "      <td>0</td>\n",
       "      <td>0</td>\n",
       "      <td>0</td>\n",
       "      <td>1.0</td>\n",
       "    </tr>\n",
       "  </tbody>\n",
       "</table>\n",
       "<p>5 rows × 22 columns</p>\n",
       "</div>"
      ],
      "text/plain": [
       "        Game Pitching Team Batting Team Inning  Event Id  \\\n",
       "0  360403123           PIT          STL      1         1   \n",
       "1  360403123           PIT          STL      1         2   \n",
       "2  360403123           PIT          STL      1         3   \n",
       "3  360403123           STL          PIT      1         5   \n",
       "4  360403123           STL          PIT      1         6   \n",
       "\n",
       "                             Events Away Home  out  hit by pitch  ...  stole  \\\n",
       "0  Carpenter grounded out to first.    0    0    1             0  ...      0   \n",
       "1       Pham grounded out to third.    0    0    1             0  ...      0   \n",
       "2      Holliday struck out looking.    0    0    1             0  ...      0   \n",
       "3      Jaso grounded out to second.    0    0    1             0  ...      0   \n",
       "4           McCutchen hit by pitch.    0    0    0             1  ...      0   \n",
       "\n",
       "   pickoff  homerun  sacrificed  single  double  triple  struck out  \\\n",
       "0        0        0           0       0       0       0           0   \n",
       "1        0        0           0       0       0       0           0   \n",
       "2        0        0           0       0       0       0           1   \n",
       "3        0        0           0       0       0       0           0   \n",
       "4        0        0           0       0       0       0           0   \n",
       "\n",
       "   sacrifice  sum  \n",
       "0          0  1.0  \n",
       "1          0  1.0  \n",
       "2          0  2.0  \n",
       "3          0  1.0  \n",
       "4          0  1.0  \n",
       "\n",
       "[5 rows x 22 columns]"
      ]
     },
     "execution_count": 15,
     "metadata": {},
     "output_type": "execute_result"
    }
   ],
   "source": [
    "pbp.head()"
   ]
  },
  {
   "cell_type": "code",
   "execution_count": 16,
   "id": "80131164",
   "metadata": {},
   "outputs": [],
   "source": [
    "pbp['sum'] = pbp['out']-pbp['out']\n",
    "for event in events:\n",
    "    pbp['sum']=pbp['sum']+pbp[event]"
   ]
  },
  {
   "cell_type": "code",
   "execution_count": 17,
   "id": "b099fce2",
   "metadata": {},
   "outputs": [],
   "source": [
    "pbp= pbp[pbp['sum']!=0]"
   ]
  },
  {
   "cell_type": "code",
   "execution_count": 18,
   "id": "2edf40c5",
   "metadata": {},
   "outputs": [],
   "source": [
    "del pbp['sum']"
   ]
  },
  {
   "cell_type": "code",
   "execution_count": 19,
   "id": "05db2dbc",
   "metadata": {},
   "outputs": [],
   "source": [
    "pbp.reset_index(drop=True, inplace=True)"
   ]
  },
  {
   "cell_type": "code",
   "execution_count": 20,
   "id": "d218bb71",
   "metadata": {},
   "outputs": [],
   "source": [
    "pbp['Event Id'] = pbp.index "
   ]
  },
  {
   "cell_type": "code",
   "execution_count": 21,
   "id": "38c8bdba",
   "metadata": {},
   "outputs": [
    {
     "name": "stdout",
     "output_type": "stream",
     "text": [
      "0.007474400179385604\n",
      "0.014948800358771209\n",
      "0.02242320053815681\n",
      "0.029897600717542418\n",
      "0.03737200089692802\n",
      "0.04484640107631362\n",
      "0.05232080125569923\n",
      "0.059795201435084835\n",
      "0.06726960161447045\n",
      "0.07474400179385604\n",
      "0.08221840197324165\n",
      "0.08969280215262725\n",
      "0.09716720233201286\n",
      "0.10464160251139847\n",
      "0.11211600269078406\n",
      "0.11959040287016967\n",
      "0.12706480304955528\n",
      "0.1345392032289409\n",
      "0.14201360340832647\n",
      "0.14948800358771208\n",
      "0.1569624037670977\n",
      "0.1644368039464833\n",
      "0.1719112041258689\n",
      "0.1793856043052545\n",
      "0.1868600044846401\n",
      "0.1943344046640257\n",
      "0.20180880484341132\n",
      "0.20928320502279693\n",
      "0.2167576052021825\n",
      "0.22423200538156812\n",
      "0.23170640556095373\n",
      "0.23918080574033934\n",
      "0.24665520591972495\n",
      "0.25412960609911056\n",
      "0.26160400627849617\n",
      "0.2690784064578818\n",
      "0.27655280663726733\n",
      "0.28402720681665294\n",
      "0.29150160699603855\n",
      "0.29897600717542416\n",
      "0.3064504073548098\n",
      "0.3139248075341954\n",
      "0.321399207713581\n",
      "0.3288736078929666\n",
      "0.3363480080723522\n",
      "0.3438224082517378\n",
      "0.3512968084311234\n",
      "0.358771208610509\n",
      "0.3662456087898946\n",
      "0.3737200089692802\n",
      "0.3811944091486658\n",
      "0.3886688093280514\n",
      "0.39614320950743703\n",
      "0.40361760968682264\n",
      "0.41109200986620825\n",
      "0.41856641004559386\n",
      "0.42604081022497947\n",
      "0.433515210404365\n",
      "0.44098961058375064\n",
      "0.44846401076313624\n",
      "0.45593841094252185\n",
      "0.46341281112190746\n",
      "0.4708872113012931\n",
      "0.4783616114806787\n",
      "0.4858360116600643\n",
      "0.4933104118394499\n",
      "0.5007848120188355\n",
      "0.5082592121982211\n",
      "0.5157336123776067\n",
      "0.5232080125569923\n",
      "0.530682412736378\n",
      "0.5381568129157636\n",
      "0.5456312130951491\n",
      "0.5531056132745347\n",
      "0.5605800134539203\n",
      "0.5680544136333059\n",
      "0.5755288138126915\n",
      "0.5830032139920771\n",
      "0.5904776141714627\n",
      "0.5979520143508483\n",
      "0.6054264145302339\n",
      "0.6129008147096195\n",
      "0.6203752148890052\n",
      "0.6278496150683908\n",
      "0.6353240152477764\n",
      "0.642798415427162\n",
      "0.6502728156065476\n",
      "0.6577472157859332\n",
      "0.6652216159653188\n",
      "0.6726960161447044\n",
      "0.68017041632409\n",
      "0.6876448165034756\n",
      "0.6951192166828613\n",
      "0.7025936168622468\n",
      "0.7100680170416324\n",
      "0.717542417221018\n",
      "0.7250168174004036\n",
      "0.7324912175797892\n",
      "0.7399656177591748\n",
      "0.7474400179385604\n",
      "0.754914418117946\n",
      "0.7623888182973316\n",
      "0.7698632184767172\n",
      "0.7773376186561028\n",
      "0.7848120188354885\n",
      "0.7922864190148741\n",
      "0.7997608191942597\n",
      "0.8072352193736453\n",
      "0.8147096195530309\n",
      "0.8221840197324165\n",
      "0.8296584199118021\n",
      "0.8371328200911877\n",
      "0.8446072202705733\n",
      "0.8520816204499589\n",
      "0.8595560206293444\n",
      "0.86703042080873\n",
      "0.8745048209881157\n",
      "0.8819792211675013\n",
      "0.8894536213468869\n",
      "0.8969280215262725\n",
      "0.9044024217056581\n",
      "0.9118768218850437\n",
      "0.9193512220644293\n",
      "0.9268256222438149\n",
      "0.9343000224232005\n",
      "0.9417744226025861\n",
      "0.9492488227819718\n",
      "0.9567232229613574\n",
      "0.964197623140743\n",
      "0.9716720233201286\n",
      "0.9791464234995142\n",
      "0.9866208236788998\n",
      "0.9940952238582854\n"
     ]
    }
   ],
   "source": [
    "endOfGame = np.zeros(len(pbp))\n",
    "home_team = np.array([\"asdf\" for _ in range(len(pbp))])\n",
    "away_team = np.array([\"asdf\" for _ in range(len(pbp))])\n",
    "home_team_final_score = np.zeros(len(pbp))\n",
    "away_team_final_score = np.zeros(len(pbp))\n",
    "\n",
    "count = 0\n",
    "games = pbp['Game'].unique()\n",
    "for gameId in games:\n",
    "    count = count + 1\n",
    "    if count % 100 == 0:\n",
    "        print(count/len(games))\n",
    "    last_play = pbp[pbp['Game'] == gameId].iloc[-1]\n",
    "    last_play_index= last_play['Event Id']\n",
    "    endOfGame[last_play_index] = 1\n",
    "    \n",
    "    first_play = pbp[pbp['Game'] == gameId].iloc[0]\n",
    "    away_team1=first_play['Batting Team']\n",
    "    home_team1=first_play['Pitching Team']\n",
    "    \n",
    "    home_team[pbp['Game']==gameId]=home_team1\n",
    "    away_team[pbp['Game']==gameId]=away_team1\n",
    "    \n",
    "    home_team_final_score[pbp['Game']==gameId]=last_play['Home']\n",
    "    away_team_final_score[pbp['Game']==gameId]=last_play['Away']\n",
    "    \n",
    "    \n",
    "    \n",
    "pbp['End Of Game'] = endOfGame\n",
    "pbp['Home Team'] = home_team\n",
    "pbp['Away Team'] = away_team\n",
    "pbp['Home Final'] = home_team_final_score\n",
    "pbp['Away Final'] = away_team_final_score"
   ]
  },
  {
   "cell_type": "code",
   "execution_count": 22,
   "id": "83f61ad6",
   "metadata": {},
   "outputs": [
    {
     "data": {
      "text/html": [
       "<div>\n",
       "<style scoped>\n",
       "    .dataframe tbody tr th:only-of-type {\n",
       "        vertical-align: middle;\n",
       "    }\n",
       "\n",
       "    .dataframe tbody tr th {\n",
       "        vertical-align: top;\n",
       "    }\n",
       "\n",
       "    .dataframe thead th {\n",
       "        text-align: right;\n",
       "    }\n",
       "</style>\n",
       "<table border=\"1\" class=\"dataframe\">\n",
       "  <thead>\n",
       "    <tr style=\"text-align: right;\">\n",
       "      <th></th>\n",
       "      <th>Game</th>\n",
       "      <th>Pitching Team</th>\n",
       "      <th>Batting Team</th>\n",
       "      <th>Inning</th>\n",
       "      <th>Event Id</th>\n",
       "      <th>Events</th>\n",
       "      <th>Away</th>\n",
       "      <th>Home</th>\n",
       "      <th>out</th>\n",
       "      <th>hit by pitch</th>\n",
       "      <th>...</th>\n",
       "      <th>single</th>\n",
       "      <th>double</th>\n",
       "      <th>triple</th>\n",
       "      <th>struck out</th>\n",
       "      <th>sacrifice</th>\n",
       "      <th>End Of Game</th>\n",
       "      <th>Home Team</th>\n",
       "      <th>Away Team</th>\n",
       "      <th>Home Final</th>\n",
       "      <th>Away Final</th>\n",
       "    </tr>\n",
       "  </thead>\n",
       "  <tbody>\n",
       "    <tr>\n",
       "      <th>0</th>\n",
       "      <td>360403123</td>\n",
       "      <td>PIT</td>\n",
       "      <td>STL</td>\n",
       "      <td>1</td>\n",
       "      <td>0</td>\n",
       "      <td>Carpenter grounded out to first.</td>\n",
       "      <td>0</td>\n",
       "      <td>0</td>\n",
       "      <td>1</td>\n",
       "      <td>0</td>\n",
       "      <td>...</td>\n",
       "      <td>0</td>\n",
       "      <td>0</td>\n",
       "      <td>0</td>\n",
       "      <td>0</td>\n",
       "      <td>0</td>\n",
       "      <td>0.0</td>\n",
       "      <td>PIT</td>\n",
       "      <td>STL</td>\n",
       "      <td>4.0</td>\n",
       "      <td>1.0</td>\n",
       "    </tr>\n",
       "    <tr>\n",
       "      <th>1</th>\n",
       "      <td>360403123</td>\n",
       "      <td>PIT</td>\n",
       "      <td>STL</td>\n",
       "      <td>1</td>\n",
       "      <td>1</td>\n",
       "      <td>Pham grounded out to third.</td>\n",
       "      <td>0</td>\n",
       "      <td>0</td>\n",
       "      <td>1</td>\n",
       "      <td>0</td>\n",
       "      <td>...</td>\n",
       "      <td>0</td>\n",
       "      <td>0</td>\n",
       "      <td>0</td>\n",
       "      <td>0</td>\n",
       "      <td>0</td>\n",
       "      <td>0.0</td>\n",
       "      <td>PIT</td>\n",
       "      <td>STL</td>\n",
       "      <td>4.0</td>\n",
       "      <td>1.0</td>\n",
       "    </tr>\n",
       "    <tr>\n",
       "      <th>2</th>\n",
       "      <td>360403123</td>\n",
       "      <td>PIT</td>\n",
       "      <td>STL</td>\n",
       "      <td>1</td>\n",
       "      <td>2</td>\n",
       "      <td>Holliday struck out looking.</td>\n",
       "      <td>0</td>\n",
       "      <td>0</td>\n",
       "      <td>1</td>\n",
       "      <td>0</td>\n",
       "      <td>...</td>\n",
       "      <td>0</td>\n",
       "      <td>0</td>\n",
       "      <td>0</td>\n",
       "      <td>1</td>\n",
       "      <td>0</td>\n",
       "      <td>0.0</td>\n",
       "      <td>PIT</td>\n",
       "      <td>STL</td>\n",
       "      <td>4.0</td>\n",
       "      <td>1.0</td>\n",
       "    </tr>\n",
       "    <tr>\n",
       "      <th>3</th>\n",
       "      <td>360403123</td>\n",
       "      <td>STL</td>\n",
       "      <td>PIT</td>\n",
       "      <td>1</td>\n",
       "      <td>3</td>\n",
       "      <td>Jaso grounded out to second.</td>\n",
       "      <td>0</td>\n",
       "      <td>0</td>\n",
       "      <td>1</td>\n",
       "      <td>0</td>\n",
       "      <td>...</td>\n",
       "      <td>0</td>\n",
       "      <td>0</td>\n",
       "      <td>0</td>\n",
       "      <td>0</td>\n",
       "      <td>0</td>\n",
       "      <td>0.0</td>\n",
       "      <td>PIT</td>\n",
       "      <td>STL</td>\n",
       "      <td>4.0</td>\n",
       "      <td>1.0</td>\n",
       "    </tr>\n",
       "    <tr>\n",
       "      <th>4</th>\n",
       "      <td>360403123</td>\n",
       "      <td>STL</td>\n",
       "      <td>PIT</td>\n",
       "      <td>1</td>\n",
       "      <td>4</td>\n",
       "      <td>McCutchen hit by pitch.</td>\n",
       "      <td>0</td>\n",
       "      <td>0</td>\n",
       "      <td>0</td>\n",
       "      <td>1</td>\n",
       "      <td>...</td>\n",
       "      <td>0</td>\n",
       "      <td>0</td>\n",
       "      <td>0</td>\n",
       "      <td>0</td>\n",
       "      <td>0</td>\n",
       "      <td>0.0</td>\n",
       "      <td>PIT</td>\n",
       "      <td>STL</td>\n",
       "      <td>4.0</td>\n",
       "      <td>1.0</td>\n",
       "    </tr>\n",
       "  </tbody>\n",
       "</table>\n",
       "<p>5 rows × 26 columns</p>\n",
       "</div>"
      ],
      "text/plain": [
       "        Game Pitching Team Batting Team Inning  Event Id  \\\n",
       "0  360403123           PIT          STL      1         0   \n",
       "1  360403123           PIT          STL      1         1   \n",
       "2  360403123           PIT          STL      1         2   \n",
       "3  360403123           STL          PIT      1         3   \n",
       "4  360403123           STL          PIT      1         4   \n",
       "\n",
       "                             Events Away Home  out  hit by pitch  ...  single  \\\n",
       "0  Carpenter grounded out to first.    0    0    1             0  ...       0   \n",
       "1       Pham grounded out to third.    0    0    1             0  ...       0   \n",
       "2      Holliday struck out looking.    0    0    1             0  ...       0   \n",
       "3      Jaso grounded out to second.    0    0    1             0  ...       0   \n",
       "4           McCutchen hit by pitch.    0    0    0             1  ...       0   \n",
       "\n",
       "   double  triple  struck out  sacrifice  End Of Game  Home Team  Away Team  \\\n",
       "0       0       0           0          0          0.0        PIT        STL   \n",
       "1       0       0           0          0          0.0        PIT        STL   \n",
       "2       0       0           1          0          0.0        PIT        STL   \n",
       "3       0       0           0          0          0.0        PIT        STL   \n",
       "4       0       0           0          0          0.0        PIT        STL   \n",
       "\n",
       "   Home Final  Away Final  \n",
       "0         4.0         1.0  \n",
       "1         4.0         1.0  \n",
       "2         4.0         1.0  \n",
       "3         4.0         1.0  \n",
       "4         4.0         1.0  \n",
       "\n",
       "[5 rows x 26 columns]"
      ]
     },
     "execution_count": 22,
     "metadata": {},
     "output_type": "execute_result"
    }
   ],
   "source": [
    "pbp.head()"
   ]
  },
  {
   "cell_type": "code",
   "execution_count": 23,
   "id": "8d6499ec",
   "metadata": {},
   "outputs": [],
   "source": [
    "pbp['Home Team Batting'] = (pbp['Home Team'] == pbp['Batting Team']).astype(int)"
   ]
  },
  {
   "cell_type": "code",
   "execution_count": 24,
   "id": "d3cd2414",
   "metadata": {},
   "outputs": [],
   "source": [
    "pbp['Batting Team Score'] = pbp['Home Team Batting']*pbp['Home'] +(1-pbp['Home Team Batting'])*pbp['Away']\n",
    "pbp['Pitching Team Score'] = (1-pbp['Home Team Batting'])*pbp['Home'] +pbp['Home Team Batting']*pbp['Away']\n",
    "pbp['Batting Team Final'] = pbp['Home Team Batting']*pbp['Home Final'] +(1-pbp['Home Team Batting'])*pbp['Away Final']\n",
    "pbp['Pitching Team Final'] = (1-pbp['Home Team Batting'])*pbp['Home Final'] +pbp['Home Team Batting']*pbp['Away Final']"
   ]
  },
  {
   "cell_type": "code",
   "execution_count": 25,
   "id": "a5661cea",
   "metadata": {},
   "outputs": [],
   "source": [
    "home_total_outs = np.zeros(len(pbp))\n",
    "home_team_outs = np.zeros(len(pbp))\n",
    "away_total_outs = np.zeros(len(pbp))\n",
    "away_team_outs =np.zeros(len(pbp))\n",
    "for gameId in games:\n",
    "    away_team_outs[pbp['Game']==gameId] = pbp[pbp['Game']==gameId]['out']*(1-pbp[pbp['Game']==gameId]['Home Team Batting'])\n",
    "    home_team_outs[pbp['Game']==gameId] = pbp[pbp['Game']==gameId]['out']*(pbp[pbp['Game']==gameId]['Home Team Batting'])\n",
    "    away_total_outs[pbp['Game']==gameId] = away_team_outs[pbp['Game']==gameId].cumsum()\n",
    "    home_total_outs[pbp['Game']==gameId] = home_team_outs[pbp['Game']==gameId].cumsum()\n",
    "pbp[\"Home Outs\"] = home_total_outs\n",
    "pbp[\"Away Outs\"] = away_total_outs"
   ]
  },
  {
   "cell_type": "code",
   "execution_count": 26,
   "id": "0bbd3434",
   "metadata": {},
   "outputs": [],
   "source": [
    "pbp[\"Batting Outs\"] = pbp['Home Team Batting']*pbp['Home Outs'] +(1-pbp['Home Team Batting'])*pbp['Away Outs']\n",
    "pbp[\"Pitching Outs\"] = (1-pbp['Home Team Batting'])*pbp['Home Outs'] +(pbp['Home Team Batting'])*pbp['Away Outs']"
   ]
  },
  {
   "cell_type": "code",
   "execution_count": 27,
   "id": "9c162ce2",
   "metadata": {},
   "outputs": [],
   "source": [
    "pbp['Home Wins'] = (pbp[\"Home Final\"] >pbp[\"Away Final\"]).astype(int)\n",
    "pbp['Batting Wins'] = (pbp[\"Batting Team Final\"] >pbp[\"Pitching Team Final\"]).astype(int)"
   ]
  },
  {
   "cell_type": "code",
   "execution_count": 28,
   "id": "6bdc1443",
   "metadata": {
    "scrolled": true
   },
   "outputs": [
    {
     "data": {
      "text/html": [
       "<div>\n",
       "<style scoped>\n",
       "    .dataframe tbody tr th:only-of-type {\n",
       "        vertical-align: middle;\n",
       "    }\n",
       "\n",
       "    .dataframe tbody tr th {\n",
       "        vertical-align: top;\n",
       "    }\n",
       "\n",
       "    .dataframe thead th {\n",
       "        text-align: right;\n",
       "    }\n",
       "</style>\n",
       "<table border=\"1\" class=\"dataframe\">\n",
       "  <thead>\n",
       "    <tr style=\"text-align: right;\">\n",
       "      <th></th>\n",
       "      <th>Game</th>\n",
       "      <th>Pitching Team</th>\n",
       "      <th>Batting Team</th>\n",
       "      <th>Inning</th>\n",
       "      <th>Event Id</th>\n",
       "      <th>Events</th>\n",
       "      <th>Away</th>\n",
       "      <th>Home</th>\n",
       "      <th>out</th>\n",
       "      <th>hit by pitch</th>\n",
       "      <th>...</th>\n",
       "      <th>Batting Team Score</th>\n",
       "      <th>Pitching Team Score</th>\n",
       "      <th>Batting Team Final</th>\n",
       "      <th>Pitching Team Final</th>\n",
       "      <th>Home Outs</th>\n",
       "      <th>Away Outs</th>\n",
       "      <th>Batting Outs</th>\n",
       "      <th>Pitching Outs</th>\n",
       "      <th>Home Wins</th>\n",
       "      <th>Batting Wins</th>\n",
       "    </tr>\n",
       "  </thead>\n",
       "  <tbody>\n",
       "    <tr>\n",
       "      <th>0</th>\n",
       "      <td>360403123</td>\n",
       "      <td>PIT</td>\n",
       "      <td>STL</td>\n",
       "      <td>1</td>\n",
       "      <td>0</td>\n",
       "      <td>Carpenter grounded out to first.</td>\n",
       "      <td>0</td>\n",
       "      <td>0</td>\n",
       "      <td>1</td>\n",
       "      <td>0</td>\n",
       "      <td>...</td>\n",
       "      <td>0</td>\n",
       "      <td>0</td>\n",
       "      <td>1.0</td>\n",
       "      <td>4.0</td>\n",
       "      <td>0.0</td>\n",
       "      <td>1.0</td>\n",
       "      <td>1.0</td>\n",
       "      <td>0.0</td>\n",
       "      <td>1</td>\n",
       "      <td>0</td>\n",
       "    </tr>\n",
       "    <tr>\n",
       "      <th>1</th>\n",
       "      <td>360403123</td>\n",
       "      <td>PIT</td>\n",
       "      <td>STL</td>\n",
       "      <td>1</td>\n",
       "      <td>1</td>\n",
       "      <td>Pham grounded out to third.</td>\n",
       "      <td>0</td>\n",
       "      <td>0</td>\n",
       "      <td>1</td>\n",
       "      <td>0</td>\n",
       "      <td>...</td>\n",
       "      <td>0</td>\n",
       "      <td>0</td>\n",
       "      <td>1.0</td>\n",
       "      <td>4.0</td>\n",
       "      <td>0.0</td>\n",
       "      <td>2.0</td>\n",
       "      <td>2.0</td>\n",
       "      <td>0.0</td>\n",
       "      <td>1</td>\n",
       "      <td>0</td>\n",
       "    </tr>\n",
       "    <tr>\n",
       "      <th>2</th>\n",
       "      <td>360403123</td>\n",
       "      <td>PIT</td>\n",
       "      <td>STL</td>\n",
       "      <td>1</td>\n",
       "      <td>2</td>\n",
       "      <td>Holliday struck out looking.</td>\n",
       "      <td>0</td>\n",
       "      <td>0</td>\n",
       "      <td>1</td>\n",
       "      <td>0</td>\n",
       "      <td>...</td>\n",
       "      <td>0</td>\n",
       "      <td>0</td>\n",
       "      <td>1.0</td>\n",
       "      <td>4.0</td>\n",
       "      <td>0.0</td>\n",
       "      <td>3.0</td>\n",
       "      <td>3.0</td>\n",
       "      <td>0.0</td>\n",
       "      <td>1</td>\n",
       "      <td>0</td>\n",
       "    </tr>\n",
       "    <tr>\n",
       "      <th>3</th>\n",
       "      <td>360403123</td>\n",
       "      <td>STL</td>\n",
       "      <td>PIT</td>\n",
       "      <td>1</td>\n",
       "      <td>3</td>\n",
       "      <td>Jaso grounded out to second.</td>\n",
       "      <td>0</td>\n",
       "      <td>0</td>\n",
       "      <td>1</td>\n",
       "      <td>0</td>\n",
       "      <td>...</td>\n",
       "      <td>0</td>\n",
       "      <td>0</td>\n",
       "      <td>4.0</td>\n",
       "      <td>1.0</td>\n",
       "      <td>1.0</td>\n",
       "      <td>3.0</td>\n",
       "      <td>1.0</td>\n",
       "      <td>3.0</td>\n",
       "      <td>1</td>\n",
       "      <td>1</td>\n",
       "    </tr>\n",
       "    <tr>\n",
       "      <th>4</th>\n",
       "      <td>360403123</td>\n",
       "      <td>STL</td>\n",
       "      <td>PIT</td>\n",
       "      <td>1</td>\n",
       "      <td>4</td>\n",
       "      <td>McCutchen hit by pitch.</td>\n",
       "      <td>0</td>\n",
       "      <td>0</td>\n",
       "      <td>0</td>\n",
       "      <td>1</td>\n",
       "      <td>...</td>\n",
       "      <td>0</td>\n",
       "      <td>0</td>\n",
       "      <td>4.0</td>\n",
       "      <td>1.0</td>\n",
       "      <td>1.0</td>\n",
       "      <td>3.0</td>\n",
       "      <td>1.0</td>\n",
       "      <td>3.0</td>\n",
       "      <td>1</td>\n",
       "      <td>1</td>\n",
       "    </tr>\n",
       "  </tbody>\n",
       "</table>\n",
       "<p>5 rows × 37 columns</p>\n",
       "</div>"
      ],
      "text/plain": [
       "        Game Pitching Team Batting Team Inning  Event Id  \\\n",
       "0  360403123           PIT          STL      1         0   \n",
       "1  360403123           PIT          STL      1         1   \n",
       "2  360403123           PIT          STL      1         2   \n",
       "3  360403123           STL          PIT      1         3   \n",
       "4  360403123           STL          PIT      1         4   \n",
       "\n",
       "                             Events Away Home  out  hit by pitch  ...  \\\n",
       "0  Carpenter grounded out to first.    0    0    1             0  ...   \n",
       "1       Pham grounded out to third.    0    0    1             0  ...   \n",
       "2      Holliday struck out looking.    0    0    1             0  ...   \n",
       "3      Jaso grounded out to second.    0    0    1             0  ...   \n",
       "4           McCutchen hit by pitch.    0    0    0             1  ...   \n",
       "\n",
       "   Batting Team Score  Pitching Team Score  Batting Team Final  \\\n",
       "0                   0                    0                 1.0   \n",
       "1                   0                    0                 1.0   \n",
       "2                   0                    0                 1.0   \n",
       "3                   0                    0                 4.0   \n",
       "4                   0                    0                 4.0   \n",
       "\n",
       "   Pitching Team Final  Home Outs  Away Outs  Batting Outs  Pitching Outs  \\\n",
       "0                  4.0        0.0        1.0           1.0            0.0   \n",
       "1                  4.0        0.0        2.0           2.0            0.0   \n",
       "2                  4.0        0.0        3.0           3.0            0.0   \n",
       "3                  1.0        1.0        3.0           1.0            3.0   \n",
       "4                  1.0        1.0        3.0           1.0            3.0   \n",
       "\n",
       "   Home Wins  Batting Wins  \n",
       "0          1             0  \n",
       "1          1             0  \n",
       "2          1             0  \n",
       "3          1             1  \n",
       "4          1             1  \n",
       "\n",
       "[5 rows x 37 columns]"
      ]
     },
     "execution_count": 28,
     "metadata": {},
     "output_type": "execute_result"
    }
   ],
   "source": [
    "pbp.head()"
   ]
  },
  {
   "cell_type": "code",
   "execution_count": 29,
   "id": "9130fa21",
   "metadata": {},
   "outputs": [],
   "source": [
    "Xfeatures = ['Batting Team Score','Pitching Team Score','Batting Outs','Pitching Outs']\n",
    "Yfeatures = ['Batting Wins']"
   ]
  },
  {
   "cell_type": "code",
   "execution_count": 30,
   "id": "1d0fb68d",
   "metadata": {},
   "outputs": [],
   "source": [
    "pbp = pbp.dropna()"
   ]
  },
  {
   "cell_type": "code",
   "execution_count": 31,
   "id": "9f63c492",
   "metadata": {},
   "outputs": [],
   "source": [
    "X = np.array(pbp[Xfeatures])\n",
    "Y = np.array(pbp[Yfeatures])"
   ]
  },
  {
   "cell_type": "code",
   "execution_count": 32,
   "id": "1a0c709c",
   "metadata": {},
   "outputs": [],
   "source": [
    "from sklearn.linear_model import LogisticRegression\n",
    "reg = LogisticRegression().fit(X, Y)"
   ]
  },
  {
   "cell_type": "code",
   "execution_count": 33,
   "id": "eb2ffd53",
   "metadata": {},
   "outputs": [
    {
     "data": {
      "text/plain": [
       "0.7559085796760981"
      ]
     },
     "execution_count": 33,
     "metadata": {},
     "output_type": "execute_result"
    }
   ],
   "source": [
    "reg.score(X, Y)"
   ]
  },
  {
   "cell_type": "code",
   "execution_count": 34,
   "id": "7fae8de8",
   "metadata": {},
   "outputs": [
    {
     "data": {
      "text/plain": [
       "array([[0.48765215, 0.51234785],\n",
       "       [0.51697468, 0.48302532]])"
      ]
     },
     "execution_count": 34,
     "metadata": {},
     "output_type": "execute_result"
    }
   ],
   "source": [
    "reg.predict_proba([[0,0,0,0],[0,0,1,0]])"
   ]
  },
  {
   "cell_type": "code",
   "execution_count": 35,
   "id": "95496c6a",
   "metadata": {},
   "outputs": [],
   "source": [
    "from sklearn.neural_network import MLPClassifier\n",
    "from sklearn.model_selection import train_test_split\n",
    "Xtr, Xte, Ytr, Yte = train_test_split(X, Y, test_size=0.94, random_state=2718)\n",
    "\n",
    "clf = MLPClassifier(random_state=2718, max_iter=300).fit(Xtr, Ytr)"
   ]
  },
  {
   "cell_type": "code",
   "execution_count": 36,
   "id": "8791589a",
   "metadata": {},
   "outputs": [
    {
     "data": {
      "text/plain": [
       "0.7521536014505034"
      ]
     },
     "execution_count": 36,
     "metadata": {},
     "output_type": "execute_result"
    }
   ],
   "source": [
    "clf.score(Xte, Yte)"
   ]
  },
  {
   "cell_type": "code",
   "execution_count": 37,
   "id": "3bc7c424",
   "metadata": {},
   "outputs": [
    {
     "data": {
      "text/plain": [
       "array([[0.48751415, 0.51248585],\n",
       "       [0.53838831, 0.46161169]])"
      ]
     },
     "execution_count": 37,
     "metadata": {},
     "output_type": "execute_result"
    }
   ],
   "source": [
    "clf.predict_proba([[0,0,0,0],[0,0,1,0]])"
   ]
  },
  {
   "cell_type": "code",
   "execution_count": 38,
   "id": "f3849e6f",
   "metadata": {},
   "outputs": [
    {
     "data": {
      "text/plain": [
       "0.5211574559231664"
      ]
     },
     "execution_count": 38,
     "metadata": {},
     "output_type": "execute_result"
    }
   ],
   "source": [
    "np.sum(pbp['Home Wins'])/len(pbp)"
   ]
  },
  {
   "cell_type": "code",
   "execution_count": 39,
   "id": "87d74d6d",
   "metadata": {},
   "outputs": [],
   "source": [
    "Xfeatures = ['Home','Away','Home Outs','Away Outs']\n",
    "Yfeatures = ['Home Wins']"
   ]
  },
  {
   "cell_type": "code",
   "execution_count": 40,
   "id": "e485a573",
   "metadata": {},
   "outputs": [],
   "source": [
    "X = np.array(pbp[Xfeatures])\n",
    "Y = np.array(pbp[Yfeatures])"
   ]
  },
  {
   "cell_type": "code",
   "execution_count": 41,
   "id": "acd534f1",
   "metadata": {},
   "outputs": [],
   "source": [
    "reg = LogisticRegression().fit(X, Y)"
   ]
  },
  {
   "cell_type": "code",
   "execution_count": 42,
   "id": "d86ffb2d",
   "metadata": {},
   "outputs": [
    {
     "data": {
      "text/plain": [
       "array([[0.45416252, 0.54583748],\n",
       "       [0.47431145, 0.52568855]])"
      ]
     },
     "execution_count": 42,
     "metadata": {},
     "output_type": "execute_result"
    }
   ],
   "source": [
    "reg.predict_proba([[0,0,0,0],[0,0,1,0]])"
   ]
  },
  {
   "cell_type": "code",
   "execution_count": 43,
   "id": "07a77716",
   "metadata": {},
   "outputs": [],
   "source": [
    "arr = {}\n",
    "arr['Game'] = []\n",
    "for event in events:  \n",
    "    arr[event] = []\n",
    "arr['Home Wins'] = []\n",
    "for gameId in games:\n",
    "    first_play = pbp[pbp['Game'] == gameId].iloc[0]\n",
    "    arr['Game'].append(gameId)\n",
    "    for event in events:\n",
    "        arr[event].append(first_play[event])\n",
    "    arr['Home Wins'].append(first_play['Home Wins'])\n",
    "gamedf=pd.DataFrame(arr)\n",
    "    \n"
   ]
  },
  {
   "cell_type": "code",
   "execution_count": null,
   "id": "2ea7a00a",
   "metadata": {},
   "outputs": [],
   "source": []
  },
  {
   "cell_type": "code",
   "execution_count": 44,
   "id": "79e25c5d",
   "metadata": {},
   "outputs": [],
   "source": [
    "def prob_to_odds(p):\n",
    "    if p > .5:\n",
    "        return -1*((-100*p)/(p-1))\n",
    "        \n",
    "    return (100-100*p)/p\n",
    "\n",
    "\n",
    "def odds_to_prob(odds):\n",
    "    if odds < 0:\n",
    "        return abs(odds)/(abs(odds) + 100)\n",
    "    return 100/(odds + 100)"
   ]
  },
  {
   "cell_type": "code",
   "execution_count": 45,
   "id": "13b15b19",
   "metadata": {},
   "outputs": [
    {
     "name": "stdout",
     "output_type": "stream",
     "text": [
      "\n",
      "out\n",
      "Home Team wins Odds: -125.33267619517004\n",
      "Away Team wins Odds: 125.33267619517004\n",
      "\n",
      "hit by pitch\n",
      "Home Team wins Odds: 133.33333333333334\n",
      "Away Team wins Odds: -133.33333333333331\n",
      "\n",
      "single\n",
      "Home Team wins Odds: -120.40816326530611\n",
      "Away Team wins Odds: 120.40816326530611\n",
      "\n",
      "double\n",
      "Home Team wins Odds: 112.50000000000001\n",
      "Away Team wins Odds: -112.50000000000001\n",
      "\n",
      "triple\n",
      "Home Team wins Odds: nan\n",
      "Away Team wins Odds: nan\n",
      "\n",
      "advance\n",
      "Home Team wins Odds: -125.26315789473685\n",
      "Away Team wins Odds: 125.26315789473685\n",
      "\n",
      "walked\n",
      "Home Team wins Odds: 101.31868131868131\n",
      "Away Team wins Odds: -101.31868131868134\n",
      "\n",
      "stole\n",
      "Home Team wins Odds: nan\n",
      "Away Team wins Odds: nan\n",
      "\n",
      "pickoff\n",
      "Home Team wins Odds: nan\n",
      "Away Team wins Odds: nan\n",
      "\n",
      "homerun\n",
      "Home Team wins Odds: 146.11111111111111\n",
      "Away Team wins Odds: -146.11111111111114\n",
      "\n",
      "struck out\n",
      "Home Team wins Odds: -130.63133281371788\n",
      "Away Team wins Odds: 130.63133281371785\n"
     ]
    }
   ],
   "source": [
    "for event in events:\n",
    "    print()\n",
    "    print(event)\n",
    "    #print(\"Probability of first at bat resulting in a \" + str(event) + str(\" and x team winning\"))\n",
    "    eventOccurs = gamedf[gamedf[event]==1]\n",
    "    prob= np.sum(eventOccurs['Home Wins'])/len(eventOccurs)\n",
    "    print('Home Team wins Odds: ' + str(prob_to_odds(prob)))\n",
    "    prob= np.sum(1-eventOccurs['Home Wins'])/len(eventOccurs)\n",
    "    print('Away Team wins Odds: ' + str(prob_to_odds(prob)))\n"
   ]
  },
  {
   "cell_type": "code",
   "execution_count": 46,
   "id": "3272895c",
   "metadata": {},
   "outputs": [],
   "source": [
    "    arr['Game'] = []\n",
    "\n",
    "    arr['Batting Team Final'] = []\n",
    "    arr['Pitching Team Final'] = []\n",
    "    arr['Home Final'] =[]\n",
    "    arr['Away Final'] =[]\n",
    "    arr['Batting Wins']=[]\n",
    "    arr['Home Wins'] = []\n"
   ]
  },
  {
   "cell_type": "code",
   "execution_count": 47,
   "id": "3888b484",
   "metadata": {},
   "outputs": [],
   "source": [
    "def getFeaturesByGame(df2,games,gameFeatures,firstPlayFeatures=[]):\n",
    "    arr = {}\n",
    "    if 'Game' not in gameFeatures:\n",
    "        arr['Game'] = []\n",
    "    else:\n",
    "        gameFeatures.remove('Game')\n",
    "        arr['Game'] = []\n",
    "    for f in gameFeatures:\n",
    "        arr[f] = []\n",
    "    for f in firstPlayFeatures:\n",
    "        arr[f] = []\n",
    "    for gameId in games:\n",
    "        arr['Game'].append(gameId)\n",
    "        first_play = df2[df2['Game'] == gameId].iloc[0]\n",
    "        \n",
    "        for f in firstPlayFeatures:\n",
    "            arr[f].append(first_play[f])\n",
    "        for f in gameFeatures:\n",
    "            arr[f].append(first_play[f])\n",
    "    return pd.DataFrame(arr)\n"
   ]
  },
  {
   "cell_type": "code",
   "execution_count": 48,
   "id": "89029188",
   "metadata": {},
   "outputs": [],
   "source": [
    "gameFeatures = ['Game','Batting Team Final','Pitching Team Final','Home Final','Away Final','Home Wins','Batting Wins']\n",
    "scoreDf = getFeaturesByGame(pbp,games,gameFeatures)"
   ]
  },
  {
   "cell_type": "markdown",
   "id": "fdf25542",
   "metadata": {},
   "source": []
  },
  {
   "cell_type": "code",
   "execution_count": 49,
   "id": "d751ef05",
   "metadata": {},
   "outputs": [],
   "source": [
    "loserScore = scoreDf['Home Wins']*scoreDf['Away Final'] + (1-scoreDf['Home Wins'])*scoreDf['Home Final']"
   ]
  },
  {
   "cell_type": "code",
   "execution_count": 50,
   "id": "c400df87",
   "metadata": {},
   "outputs": [
    {
     "data": {
      "text/plain": [
       "0.32057702369384855"
      ]
     },
     "execution_count": 50,
     "metadata": {},
     "output_type": "execute_result"
    }
   ],
   "source": [
    "(len(loserScore[loserScore >3.5])/len(loserScore))"
   ]
  },
  {
   "cell_type": "code",
   "execution_count": 51,
   "id": "8cabf851",
   "metadata": {},
   "outputs": [
    {
     "data": {
      "text/plain": [
       "0.6"
      ]
     },
     "execution_count": 51,
     "metadata": {},
     "output_type": "execute_result"
    }
   ],
   "source": [
    "odds_to_prob(-150)"
   ]
  },
  {
   "cell_type": "code",
   "execution_count": 52,
   "id": "6564b531",
   "metadata": {},
   "outputs": [],
   "source": [
    "arr = {}\n",
    "arr['Game'] = []\n",
    "arr['Team Score'] = []\n",
    "arr['Opp Score'] = []\n",
    "arr['Won'] = []\n",
    "for gameId in games:\n",
    "    arr['Game'].append(gameId)\n",
    "    arr['Game'].append(gameId)\n",
    "    first_play = pbp[pbp['Game'] == gameId].iloc[0]\n",
    "    arr['Team Score'].append(first_play['Home Final'])\n",
    "    arr['Team Score'].append(first_play['Away Final'])\n",
    "    arr['Opp Score'].append(first_play['Away Final'])\n",
    "    arr['Opp Score'].append(first_play['Home Final'])\n",
    "    arr['Won'].append(first_play['Home Wins'])\n",
    "    arr['Won'].append(1-first_play['Home Wins'])\n"
   ]
  },
  {
   "cell_type": "code",
   "execution_count": 53,
   "id": "f8c14299",
   "metadata": {},
   "outputs": [],
   "source": [
    "teamDf = pd.DataFrame(arr)"
   ]
  },
  {
   "cell_type": "code",
   "execution_count": null,
   "id": "c09944eb",
   "metadata": {},
   "outputs": [],
   "source": []
  },
  {
   "cell_type": "code",
   "execution_count": 55,
   "id": "91806507",
   "metadata": {},
   "outputs": [
    {
     "name": "stdout",
     "output_type": "stream",
     "text": [
      "My Odds 554.8962462112381\n",
      "Their Odds 370\n"
     ]
    }
   ],
   "source": [
    "theirOddsB= -120\n",
    "theirOddsTotal = 370\n",
    "myOdds = (len(teamDf[teamDf['Opp Score']>3.5][teamDf['Won']==1])/len(teamDf[teamDf['Opp Score']>3.5]))*odds_to_prob(theirOddsB)\n",
    "print('My Odds ' + str(prob_to_odds(myOdds)))\n",
    "print('Their Odds ' + str(theirOddsTotal))\n"
   ]
  },
  {
   "cell_type": "markdown",
   "id": "64ffc85b",
   "metadata": {},
   "source": [
    "### The implied odds say this is awful.  I think betting against this would probably be beneficial if I could"
   ]
  },
  {
   "cell_type": "markdown",
   "id": "806f00ab",
   "metadata": {},
   "source": [
    "### No edge when going with lower score. But it gets better"
   ]
  },
  {
   "cell_type": "code",
   "execution_count": 56,
   "id": "2f4ec53a",
   "metadata": {},
   "outputs": [
    {
     "name": "stdout",
     "output_type": "stream",
     "text": [
      "My Odds 188.08392959947363\n",
      "Their Odds 130\n"
     ]
    }
   ],
   "source": [
    "theirOddsB= -525\n",
    "theirOddsTotal = 130\n",
    "myOdds = (len(teamDf[teamDf['Opp Score']>1.5][teamDf['Won']==1])/len(teamDf[teamDf['Opp Score']>1.5]))*odds_to_prob(theirOddsB)\n",
    "print('My Odds ' + str(prob_to_odds(myOdds)))\n",
    "print('Their Odds ' + str(theirOddsTotal))\n"
   ]
  },
  {
   "cell_type": "markdown",
   "id": "ae38f2c2",
   "metadata": {},
   "source": [
    "### Better but not good enough"
   ]
  },
  {
   "cell_type": "code",
   "execution_count": 57,
   "id": "56c19d64",
   "metadata": {},
   "outputs": [
    {
     "name": "stdout",
     "output_type": "stream",
     "text": [
      "My Odds 121.77804114111571\n",
      "Their Odds -120\n"
     ]
    }
   ],
   "source": [
    "theirOddsB= -2500\n",
    "theirOddsTotal = -120\n",
    "myOdds = (len(teamDf[teamDf['Opp Score']>.5][teamDf['Won']==1])/len(teamDf[teamDf['Opp Score']>.5]))*odds_to_prob(theirOddsB)\n",
    "print('My Odds ' + str(prob_to_odds(myOdds)))\n",
    "print('Their Odds ' + str(theirOddsTotal))\n"
   ]
  },
  {
   "cell_type": "markdown",
   "id": "c40b4dce",
   "metadata": {},
   "source": [
    "### Now lets look at unders runs "
   ]
  },
  {
   "cell_type": "code",
   "execution_count": 102,
   "id": "c388ff1c",
   "metadata": {},
   "outputs": [
    {
     "name": "stdout",
     "output_type": "stream",
     "text": [
      "26758\n",
      "1520\n",
      "My Odds 480.0\n",
      "Their Odds -160\n",
      "3420.7894736842104\n"
     ]
    }
   ],
   "source": [
    "totalRuns = 6.5\n",
    "theirOddsB= 190\n",
    "theirOddsTotal = -160\n",
    "teamDf['Total Score'] = teamDf['Team Score']+teamDf['Opp Score']\n",
    "conditionScore = teamDf[teamDf['Team Score'] < totalRuns][teamDf['Opp Score'] < totalRuns]\n",
    "print(len(teamDf))\n",
    "print(len(conditionScore))\n",
    "myOdds = (len(conditionScore[conditionScore['Won']==1])/len(conditionScore))*odds_to_prob(theirOddsB)\n",
    "myOdds2 = (len(conditionScore[conditionScore['Won']==1])/len(conditionScore))*(len(conditionScore)/len(teamDf))\n",
    "print('My Odds ' + str(prob_to_odds(myOdds)))\n",
    "print('Their Odds ' + str(theirOddsTotal))\n",
    "print(prob_to_odds(myOdds2))\n"
   ]
  },
  {
   "cell_type": "code",
   "execution_count": 95,
   "id": "f6b74c05",
   "metadata": {},
   "outputs": [
    {
     "data": {
      "text/plain": [
       "0.1724137931034483"
      ]
     },
     "execution_count": 95,
     "metadata": {},
     "output_type": "execute_result"
    }
   ],
   "source": [
    "odds_to_prob(480.0)"
   ]
  },
  {
   "cell_type": "code",
   "execution_count": 97,
   "id": "37dd1d58",
   "metadata": {},
   "outputs": [
    {
     "data": {
      "text/plain": [
       "0.6153846153846154"
      ]
     },
     "execution_count": 97,
     "metadata": {},
     "output_type": "execute_result"
    }
   ],
   "source": [
    "odds_to_prob(-160)"
   ]
  },
  {
   "cell_type": "code",
   "execution_count": 76,
   "id": "58194418",
   "metadata": {},
   "outputs": [
    {
     "data": {
      "text/plain": [
       "-99899.99999999991"
      ]
     },
     "execution_count": 76,
     "metadata": {},
     "output_type": "execute_result"
    }
   ],
   "source": [
    "prob_to_odds(.999)"
   ]
  },
  {
   "cell_type": "code",
   "execution_count": null,
   "id": "d2b6bfd8",
   "metadata": {},
   "outputs": [],
   "source": []
  },
  {
   "cell_type": "code",
   "execution_count": null,
   "id": "8276da7b",
   "metadata": {},
   "outputs": [],
   "source": []
  }
 ],
 "metadata": {
  "kernelspec": {
   "display_name": "Python 3 (ipykernel)",
   "language": "python",
   "name": "python3"
  },
  "language_info": {
   "codemirror_mode": {
    "name": "ipython",
    "version": 3
   },
   "file_extension": ".py",
   "mimetype": "text/x-python",
   "name": "python",
   "nbconvert_exporter": "python",
   "pygments_lexer": "ipython3",
   "version": "3.10.9"
  }
 },
 "nbformat": 4,
 "nbformat_minor": 5
}
